{
  "nbformat": 4,
  "nbformat_minor": 0,
  "metadata": {
    "colab": {
      "name": "Numpy.ipynb",
      "provenance": [],
      "collapsed_sections": [],
      "toc_visible": true
    },
    "kernelspec": {
      "name": "python3",
      "display_name": "Python 3"
    },
    "language_info": {
      "name": "python"
    }
  },
  "cells": [
    {
      "cell_type": "markdown",
      "metadata": {
        "id": "Y0WqwRi9J6Td"
      },
      "source": [
        "###**Demonstração NumPY**\n",
        "###**Disciplina** - Introdução a Ciência de Dados - Univesp\n",
        "###**Prof**. Dr. José Eduardo Santarem\n"
      ]
    },
    {
      "cell_type": "markdown",
      "metadata": {
        "id": "JjgZiXPvMrmm"
      },
      "source": [
        "\n",
        "# Importando Biblioteca"
      ]
    },
    {
      "cell_type": "code",
      "metadata": {
        "id": "OxtvJCW_WWSu"
      },
      "source": [
        "import numpy as np"
      ],
      "execution_count": 4,
      "outputs": []
    },
    {
      "cell_type": "markdown",
      "metadata": {
        "id": "hM9ulVzyTiH3"
      },
      "source": [
        "**Gerando Dados Aleatórios**\n",
        "\n",
        "**NDArray de 2x3 (Duas Lista com 3º Elementos)**\n"
      ]
    },
    {
      "cell_type": "code",
      "metadata": {
        "id": "XMkBeDM6Ts1M"
      },
      "source": [
        "dados=np.random.rand(2,3)"
      ],
      "execution_count": null,
      "outputs": []
    },
    {
      "cell_type": "code",
      "metadata": {
        "colab": {
          "base_uri": "https://localhost:8080/"
        },
        "id": "-nRA-pgwhZar",
        "outputId": "500d89b9-ac90-448f-989d-63cd8f4db1c8"
      },
      "source": [
        "#Verificando o Tipo de Dado; (Array)\n",
        "\n",
        "dados.dtype\n"
      ],
      "execution_count": null,
      "outputs": [
        {
          "output_type": "execute_result",
          "data": {
            "text/plain": [
              "dtype('float64')"
            ]
          },
          "metadata": {},
          "execution_count": 4
        }
      ]
    },
    {
      "cell_type": "markdown",
      "metadata": {
        "id": "sDQdUnnmj4El"
      },
      "source": [
        "**Tamanho e quantidade de dimensões**"
      ]
    },
    {
      "cell_type": "code",
      "metadata": {
        "colab": {
          "base_uri": "https://localhost:8080/"
        },
        "id": "DG0mwfcJj6K6",
        "outputId": "09207b0a-e1e6-492a-b160-bc7bfb6e9dac"
      },
      "source": [
        "dados.shape"
      ],
      "execution_count": null,
      "outputs": [
        {
          "output_type": "execute_result",
          "data": {
            "text/plain": [
              "(2, 3)"
            ]
          },
          "metadata": {},
          "execution_count": 6
        }
      ]
    },
    {
      "cell_type": "code",
      "metadata": {
        "colab": {
          "base_uri": "https://localhost:8080/"
        },
        "id": "LmFChNu-kclc",
        "outputId": "4fc57f26-0d7d-45a8-8c19-ad71cb444dd8"
      },
      "source": [
        "dados.ndim"
      ],
      "execution_count": null,
      "outputs": [
        {
          "output_type": "execute_result",
          "data": {
            "text/plain": [
              "2"
            ]
          },
          "metadata": {},
          "execution_count": 7
        }
      ]
    },
    {
      "cell_type": "markdown",
      "metadata": {
        "id": "kULKZP7DoGea"
      },
      "source": [
        "**Criar ndarray usando a Função Array**\n"
      ]
    },
    {
      "cell_type": "code",
      "metadata": {
        "colab": {
          "base_uri": "https://localhost:8080/"
        },
        "id": "ybrXOwuQoKiT",
        "outputId": "b9508f47-9172-44f0-beca-8c3ef976fbb0"
      },
      "source": [
        "lista = [1,2,4,1.25,0.50]\n",
        "\n",
        "my_nd = np.array(lista)\n",
        "\n",
        "\n",
        "#Visualizando o ndarry criado;\n",
        "\n",
        "my_nd"
      ],
      "execution_count": null,
      "outputs": [
        {
          "output_type": "execute_result",
          "data": {
            "text/plain": [
              "array([1.  , 2.  , 4.  , 1.25, 0.5 ])"
            ]
          },
          "metadata": {},
          "execution_count": 10
        }
      ]
    },
    {
      "cell_type": "code",
      "metadata": {
        "colab": {
          "base_uri": "https://localhost:8080/"
        },
        "id": "PwKYtxUmqBWj",
        "outputId": "975cfeb9-d82d-4592-a5c1-5e00bf1d9c6e"
      },
      "source": [
        "my_lista = [[1,2,4,5], [5,6,7,8]]\n",
        "my_array = np.array(my_lista)\n",
        "\n",
        "my_lista"
      ],
      "execution_count": null,
      "outputs": [
        {
          "output_type": "execute_result",
          "data": {
            "text/plain": [
              "[[1, 2, 4, 5], [5, 6, 7, 8]]"
            ]
          },
          "metadata": {},
          "execution_count": 13
        }
      ]
    },
    {
      "cell_type": "markdown",
      "metadata": {
        "id": "flYgBwiQ7uj-"
      },
      "source": [
        "**Outras Maneiras de Criar Array**"
      ]
    },
    {
      "cell_type": "code",
      "metadata": {
        "colab": {
          "base_uri": "https://localhost:8080/"
        },
        "id": "NXrN8x1I9DtQ",
        "outputId": "0b784cf1-e01d-4537-d5d1-8c6b5820cb27"
      },
      "source": [
        "dados_zero = np.zeros(10)\n",
        "\n",
        "dados"
      ],
      "execution_count": null,
      "outputs": [
        {
          "output_type": "execute_result",
          "data": {
            "text/plain": [
              "array([[0.28656199, 0.83866673, 0.71134282],\n",
              "       [0.21836908, 0.53689189, 0.62549952]])"
            ]
          },
          "metadata": {},
          "execution_count": 15
        }
      ]
    },
    {
      "cell_type": "code",
      "metadata": {
        "colab": {
          "base_uri": "https://localhost:8080/"
        },
        "id": "yUUiMtzY-VxM",
        "outputId": "fad34af1-651e-4dae-f22e-1612f9180d93"
      },
      "source": [
        "meus_dados = np.zeros((2,3)) #Criando um Array com duas dimensões e três valores;\n",
        "\n",
        "meus_dados"
      ],
      "execution_count": null,
      "outputs": [
        {
          "output_type": "execute_result",
          "data": {
            "text/plain": [
              "array([[0., 0., 0.],\n",
              "       [0., 0., 0.]])"
            ]
          },
          "metadata": {},
          "execution_count": 20
        }
      ]
    },
    {
      "cell_type": "code",
      "metadata": {
        "colab": {
          "base_uri": "https://localhost:8080/"
        },
        "id": "9_ifK2ax_d6N",
        "outputId": "361c60c1-f50c-46c1-aa5e-7f779c09a5b6"
      },
      "source": [
        "dados_one = np.ones(5)\n",
        "\n",
        "dados_one"
      ],
      "execution_count": null,
      "outputs": [
        {
          "output_type": "execute_result",
          "data": {
            "text/plain": [
              "array([1., 1., 1., 1., 1.])"
            ]
          },
          "metadata": {},
          "execution_count": 22
        }
      ]
    },
    {
      "cell_type": "code",
      "metadata": {
        "colab": {
          "base_uri": "https://localhost:8080/"
        },
        "id": "6YfnSrBo_nhC",
        "outputId": "fbbaa4b8-767f-47b7-c9d5-351b9cac74fa"
      },
      "source": [
        "dados_seq = np.arange(10) #Criando Valores Sequencias; \n",
        "\n",
        "\n",
        "dados_seq"
      ],
      "execution_count": null,
      "outputs": [
        {
          "output_type": "execute_result",
          "data": {
            "text/plain": [
              "array([0, 1, 2, 3, 4, 5, 6, 7, 8, 9])"
            ]
          },
          "metadata": {},
          "execution_count": 24
        }
      ]
    },
    {
      "cell_type": "code",
      "metadata": {
        "colab": {
          "base_uri": "https://localhost:8080/"
        },
        "id": "2uxt2eOGBpdQ",
        "outputId": "8029d116-921b-4e33-9150-8f00b3e83fe1"
      },
      "source": [
        "dados_news = np.arange(0, 20, 2)\n",
        "\n",
        "dados_news\n",
        "\n"
      ],
      "execution_count": null,
      "outputs": [
        {
          "output_type": "execute_result",
          "data": {
            "text/plain": [
              "array([ 0,  2,  4,  6,  8, 10, 12, 14, 16, 18])"
            ]
          },
          "metadata": {},
          "execution_count": 36
        }
      ]
    },
    {
      "cell_type": "code",
      "metadata": {
        "colab": {
          "base_uri": "https://localhost:8080/"
        },
        "id": "a9DnNWz9NPuS",
        "outputId": "e03900b9-270c-40ec-8ea3-2d45afaea0e6"
      },
      "source": [
        "dados_news.dtype"
      ],
      "execution_count": null,
      "outputs": [
        {
          "output_type": "execute_result",
          "data": {
            "text/plain": [
              "dtype('int64')"
            ]
          },
          "metadata": {},
          "execution_count": 37
        }
      ]
    },
    {
      "cell_type": "code",
      "metadata": {
        "id": "XBPHIAiqNQeV"
      },
      "source": [
        "news_dados = dados_news.astype(np.float64)"
      ],
      "execution_count": null,
      "outputs": []
    },
    {
      "cell_type": "code",
      "metadata": {
        "colab": {
          "base_uri": "https://localhost:8080/"
        },
        "id": "an6R-HMZObSg",
        "outputId": "61db50e1-356f-4c17-d549-26543ccccaee"
      },
      "source": [
        "news_dados"
      ],
      "execution_count": null,
      "outputs": [
        {
          "output_type": "execute_result",
          "data": {
            "text/plain": [
              "array([ 0.,  2.,  4.,  6.,  8., 10., 12., 14., 16., 18.])"
            ]
          },
          "metadata": {},
          "execution_count": 39
        }
      ]
    },
    {
      "cell_type": "code",
      "metadata": {
        "colab": {
          "base_uri": "https://localhost:8080/"
        },
        "id": "ZuBbX23wPEiz",
        "outputId": "c20ea137-3ccb-4dbb-8278-1cf7f0131666"
      },
      "source": [
        "news_dados.dtype"
      ],
      "execution_count": null,
      "outputs": [
        {
          "output_type": "execute_result",
          "data": {
            "text/plain": [
              "dtype('float64')"
            ]
          },
          "metadata": {},
          "execution_count": 40
        }
      ]
    },
    {
      "cell_type": "markdown",
      "metadata": {
        "id": "vU_A8knGS9L-"
      },
      "source": [
        "#Aritmética com Arrays"
      ]
    },
    {
      "cell_type": "code",
      "metadata": {
        "id": "2vZEf_RDTFhV"
      },
      "source": [
        "meus_dados = np.array([[1,2,3],[4,5,6]])"
      ],
      "execution_count": 5,
      "outputs": []
    },
    {
      "cell_type": "code",
      "metadata": {
        "colab": {
          "base_uri": "https://localhost:8080/"
        },
        "id": "WcKj_-izTb-J",
        "outputId": "71df0cc3-f369-46af-9883-a343b6aa8371"
      },
      "source": [
        "meus_dados"
      ],
      "execution_count": 6,
      "outputs": [
        {
          "output_type": "execute_result",
          "data": {
            "text/plain": [
              "array([[1, 2, 3],\n",
              "       [4, 5, 6]])"
            ]
          },
          "metadata": {},
          "execution_count": 6
        }
      ]
    },
    {
      "cell_type": "code",
      "metadata": {
        "colab": {
          "base_uri": "https://localhost:8080/"
        },
        "id": "qeKIApvVTh-O",
        "outputId": "7efcdbb5-c525-4c13-f8a9-0a0657016770"
      },
      "source": [
        "meus_dados * meus_dados"
      ],
      "execution_count": 7,
      "outputs": [
        {
          "output_type": "execute_result",
          "data": {
            "text/plain": [
              "array([[ 1,  4,  9],\n",
              "       [16, 25, 36]])"
            ]
          },
          "metadata": {},
          "execution_count": 7
        }
      ]
    },
    {
      "cell_type": "code",
      "metadata": {
        "colab": {
          "base_uri": "https://localhost:8080/"
        },
        "id": "EVZtYu-GTmp-",
        "outputId": "c91f6c98-a69d-49ae-c795-5a349d1e874d"
      },
      "source": [
        "meus_dados - meus_dados"
      ],
      "execution_count": 8,
      "outputs": [
        {
          "output_type": "execute_result",
          "data": {
            "text/plain": [
              "array([[0, 0, 0],\n",
              "       [0, 0, 0]])"
            ]
          },
          "metadata": {},
          "execution_count": 8
        }
      ]
    },
    {
      "cell_type": "code",
      "metadata": {
        "colab": {
          "base_uri": "https://localhost:8080/"
        },
        "id": "ZsX2xLpNUmEr",
        "outputId": "fdb0b1ae-48ac-4da4-b9fd-a8d3598048b7"
      },
      "source": [
        "1 / meus_dados"
      ],
      "execution_count": 9,
      "outputs": [
        {
          "output_type": "execute_result",
          "data": {
            "text/plain": [
              "array([[1.        , 0.5       , 0.33333333],\n",
              "       [0.25      , 0.2       , 0.16666667]])"
            ]
          },
          "metadata": {},
          "execution_count": 9
        }
      ]
    },
    {
      "cell_type": "code",
      "metadata": {
        "id": "QqP6uZQcUoE9"
      },
      "source": [
        "novos_dados = meus_dados + meus_dados "
      ],
      "execution_count": 10,
      "outputs": []
    },
    {
      "cell_type": "code",
      "metadata": {
        "colab": {
          "base_uri": "https://localhost:8080/"
        },
        "id": "ErBrdKHqUvcE",
        "outputId": "26c94791-f475-474f-a394-9baadd177c37"
      },
      "source": [
        "meus_dados > novos_dados "
      ],
      "execution_count": 11,
      "outputs": [
        {
          "output_type": "execute_result",
          "data": {
            "text/plain": [
              "array([[False, False, False],\n",
              "       [False, False, False]])"
            ]
          },
          "metadata": {},
          "execution_count": 11
        }
      ]
    },
    {
      "cell_type": "markdown",
      "metadata": {
        "id": "1wyNqCrfcomv"
      },
      "source": [
        "#Indexação\n"
      ]
    },
    {
      "cell_type": "code",
      "metadata": {
        "colab": {
          "base_uri": "https://localhost:8080/"
        },
        "id": "FxEd7uFWct1k",
        "outputId": "aa523a98-8c2e-43c9-b258-21c5bf884547"
      },
      "source": [
        "meus_dados[1]"
      ],
      "execution_count": 12,
      "outputs": [
        {
          "output_type": "execute_result",
          "data": {
            "text/plain": [
              "array([4, 5, 6])"
            ]
          },
          "metadata": {},
          "execution_count": 12
        }
      ]
    },
    {
      "cell_type": "code",
      "metadata": {
        "id": "s19oqGRTdX2F"
      },
      "source": [
        "meus_dados[1] = 7"
      ],
      "execution_count": 13,
      "outputs": []
    },
    {
      "cell_type": "code",
      "metadata": {
        "colab": {
          "base_uri": "https://localhost:8080/"
        },
        "id": "esiAS43FdcWu",
        "outputId": "876ba2cd-449b-4d85-d828-f09ab19cda19"
      },
      "source": [
        "meus_dados"
      ],
      "execution_count": 15,
      "outputs": [
        {
          "output_type": "execute_result",
          "data": {
            "text/plain": [
              "array([[1, 2, 3],\n",
              "       [7, 7, 7]])"
            ]
          },
          "metadata": {},
          "execution_count": 15
        }
      ]
    },
    {
      "cell_type": "code",
      "metadata": {
        "id": "__UbNCtdeHj4"
      },
      "source": [
        "new = meus_dados[1].copy() #Copiando o valor de um Indice e atribuindo a uma nova váriavel;"
      ],
      "execution_count": 22,
      "outputs": []
    },
    {
      "cell_type": "code",
      "metadata": {
        "colab": {
          "base_uri": "https://localhost:8080/"
        },
        "id": "SUtRoCH2eMWa",
        "outputId": "fedd1e83-e224-4609-c86d-60cfdf7df034"
      },
      "source": [
        "new"
      ],
      "execution_count": 23,
      "outputs": [
        {
          "output_type": "execute_result",
          "data": {
            "text/plain": [
              "array([7, 7, 7])"
            ]
          },
          "metadata": {},
          "execution_count": 23
        }
      ]
    },
    {
      "cell_type": "markdown",
      "metadata": {
        "id": "KHKC0wvSetkN"
      },
      "source": [
        "#Arrays Dimensionais\n"
      ]
    },
    {
      "cell_type": "code",
      "metadata": {
        "id": "o5PovWmHesjP"
      },
      "source": [
        "news=np.array([[1,2,3],[4,5,6],[7,8,9]])"
      ],
      "execution_count": 30,
      "outputs": []
    },
    {
      "cell_type": "code",
      "metadata": {
        "colab": {
          "base_uri": "https://localhost:8080/"
        },
        "id": "UICXRAHwj9NS",
        "outputId": "9af1bea1-2a3b-497e-fc9e-3f6cb9fdc9b7"
      },
      "source": [
        "news[1, 2]"
      ],
      "execution_count": 31,
      "outputs": [
        {
          "output_type": "execute_result",
          "data": {
            "text/plain": [
              "6"
            ]
          },
          "metadata": {},
          "execution_count": 31
        }
      ]
    },
    {
      "cell_type": "markdown",
      "metadata": {
        "id": "OcsXOja9kWAW"
      },
      "source": [
        "#Máscaras"
      ]
    },
    {
      "cell_type": "code",
      "metadata": {
        "colab": {
          "base_uri": "https://localhost:8080/"
        },
        "id": "CRUQ96J4kXrb",
        "outputId": "7a9b3e70-68f9-45bc-9d13-dccd994171c0"
      },
      "source": [
        "news"
      ],
      "execution_count": 32,
      "outputs": [
        {
          "output_type": "execute_result",
          "data": {
            "text/plain": [
              "array([[1, 2, 3],\n",
              "       [4, 5, 6],\n",
              "       [7, 8, 9]])"
            ]
          },
          "metadata": {},
          "execution_count": 32
        }
      ]
    },
    {
      "cell_type": "code",
      "metadata": {
        "id": "Clmr5NeHlSOg"
      },
      "source": [
        "mascara = (news > 100)"
      ],
      "execution_count": null,
      "outputs": []
    },
    {
      "cell_type": "code",
      "metadata": {
        "id": "50ule8nnoAp-"
      },
      "source": [
        "news[news<30] = 100"
      ],
      "execution_count": 38,
      "outputs": []
    },
    {
      "cell_type": "code",
      "metadata": {
        "colab": {
          "base_uri": "https://localhost:8080/"
        },
        "id": "eyUDpujooPUN",
        "outputId": "e20dccf1-11c1-4bd3-faa9-522a03fd9725"
      },
      "source": [
        "news"
      ],
      "execution_count": 39,
      "outputs": [
        {
          "output_type": "execute_result",
          "data": {
            "text/plain": [
              "array([[100, 100, 100],\n",
              "       [100, 100, 100],\n",
              "       [100, 100, 100]])"
            ]
          },
          "metadata": {},
          "execution_count": 39
        }
      ]
    },
    {
      "cell_type": "markdown",
      "metadata": {
        "id": "dTjha0ioo-GA"
      },
      "source": [
        "#Transposição\n"
      ]
    },
    {
      "cell_type": "code",
      "metadata": {
        "id": "mqqkD1_mpV6i"
      },
      "source": [
        "dataset = np.arange(15).reshape((3, 5))"
      ],
      "execution_count": 41,
      "outputs": []
    },
    {
      "cell_type": "code",
      "metadata": {
        "colab": {
          "base_uri": "https://localhost:8080/"
        },
        "id": "50ULT04_p5N3",
        "outputId": "12f3a73d-fd92-44ca-e131-36d5371f5739"
      },
      "source": [
        "dataset"
      ],
      "execution_count": 42,
      "outputs": [
        {
          "output_type": "execute_result",
          "data": {
            "text/plain": [
              "array([[ 0,  1,  2,  3,  4],\n",
              "       [ 5,  6,  7,  8,  9],\n",
              "       [10, 11, 12, 13, 14]])"
            ]
          },
          "metadata": {},
          "execution_count": 42
        }
      ]
    },
    {
      "cell_type": "code",
      "metadata": {
        "colab": {
          "base_uri": "https://localhost:8080/"
        },
        "id": "ZjPgEEnsqhWY",
        "outputId": "6d144933-1bad-4233-e8be-7009ece1f6c9"
      },
      "source": [
        "dataset.T"
      ],
      "execution_count": 43,
      "outputs": [
        {
          "output_type": "execute_result",
          "data": {
            "text/plain": [
              "array([[ 0,  5, 10],\n",
              "       [ 1,  6, 11],\n",
              "       [ 2,  7, 12],\n",
              "       [ 3,  8, 13],\n",
              "       [ 4,  9, 14]])"
            ]
          },
          "metadata": {},
          "execution_count": 43
        }
      ]
    },
    {
      "cell_type": "markdown",
      "metadata": {
        "id": "HF-ht6FhqnIg"
      },
      "source": [
        "#Multiplicação de Matriz com DOTS"
      ]
    },
    {
      "cell_type": "code",
      "metadata": {
        "colab": {
          "base_uri": "https://localhost:8080/"
        },
        "id": "teQwMgFgq0dj",
        "outputId": "dd78f0f2-1d67-46bd-e2c6-f8b720fb40f3"
      },
      "source": [
        "np.dot(dataset.T,dataset)"
      ],
      "execution_count": 44,
      "outputs": [
        {
          "output_type": "execute_result",
          "data": {
            "text/plain": [
              "array([[125, 140, 155, 170, 185],\n",
              "       [140, 158, 176, 194, 212],\n",
              "       [155, 176, 197, 218, 239],\n",
              "       [170, 194, 218, 242, 266],\n",
              "       [185, 212, 239, 266, 293]])"
            ]
          },
          "metadata": {},
          "execution_count": 44
        }
      ]
    },
    {
      "cell_type": "code",
      "metadata": {
        "id": "JSiMHrscrezi"
      },
      "source": [
        "# Outras Funções Revelantes da Biblioteca NumPy:\n",
        "\n",
        "#in, cos, power, mod, sqrt;"
      ],
      "execution_count": null,
      "outputs": []
    },
    {
      "cell_type": "code",
      "metadata": {
        "id": "nKnqnf-Urr1k"
      },
      "source": [
        ""
      ],
      "execution_count": null,
      "outputs": []
    }
  ]
}